{
  "nbformat": 4,
  "nbformat_minor": 0,
  "metadata": {
    "colab": {
      "provenance": [],
      "authorship_tag": "ABX9TyMI1W85L9RKF1fNLONTIIWy",
      "include_colab_link": true
    },
    "kernelspec": {
      "name": "python3",
      "display_name": "Python 3"
    },
    "language_info": {
      "name": "python"
    }
  },
  "cells": [
    {
      "cell_type": "markdown",
      "metadata": {
        "id": "view-in-github",
        "colab_type": "text"
      },
      "source": [
        "<a href=\"https://colab.research.google.com/github/20-hayato/machine_learning_test/blob/main/lesson1.ipynb\" target=\"_parent\"><img src=\"https://colab.research.google.com/assets/colab-badge.svg\" alt=\"Open In Colab\"/></a>"
      ]
    },
    {
      "cell_type": "code",
      "execution_count": 1,
      "metadata": {
        "colab": {
          "base_uri": "https://localhost:8080/"
        },
        "id": "v6Ekg-FA6Wcf",
        "outputId": "377180ac-badc-44c4-cf23-548507fe6829"
      },
      "outputs": [
        {
          "output_type": "stream",
          "name": "stdout",
          "text": [
            "assignment 1\n",
            "5050\n"
          ]
        }
      ],
      "source": [
        "# 1\n",
        "print(\"assignment 1\")\n",
        "sum = 0\n",
        "for i in range(100):\n",
        "  sum += i+1\n",
        "print(sum)"
      ]
    },
    {
      "cell_type": "code",
      "source": [
        "# 2\n",
        "print(\"assignment 2\")\n",
        "sum_i = 0\n",
        "for i in range(100):\n",
        "  sum_i += i+1\n",
        "  print(sum_i)"
      ],
      "metadata": {
        "colab": {
          "base_uri": "https://localhost:8080/"
        },
        "id": "Cr0LvPct7G_v",
        "outputId": "6a0135d9-16fa-4f25-8cb4-bf5d611dc3d0"
      },
      "execution_count": 2,
      "outputs": [
        {
          "output_type": "stream",
          "name": "stdout",
          "text": [
            "assignment 2\n",
            "1\n",
            "3\n",
            "6\n",
            "10\n",
            "15\n",
            "21\n",
            "28\n",
            "36\n",
            "45\n",
            "55\n",
            "66\n",
            "78\n",
            "91\n",
            "105\n",
            "120\n",
            "136\n",
            "153\n",
            "171\n",
            "190\n",
            "210\n",
            "231\n",
            "253\n",
            "276\n",
            "300\n",
            "325\n",
            "351\n",
            "378\n",
            "406\n",
            "435\n",
            "465\n",
            "496\n",
            "528\n",
            "561\n",
            "595\n",
            "630\n",
            "666\n",
            "703\n",
            "741\n",
            "780\n",
            "820\n",
            "861\n",
            "903\n",
            "946\n",
            "990\n",
            "1035\n",
            "1081\n",
            "1128\n",
            "1176\n",
            "1225\n",
            "1275\n",
            "1326\n",
            "1378\n",
            "1431\n",
            "1485\n",
            "1540\n",
            "1596\n",
            "1653\n",
            "1711\n",
            "1770\n",
            "1830\n",
            "1891\n",
            "1953\n",
            "2016\n",
            "2080\n",
            "2145\n",
            "2211\n",
            "2278\n",
            "2346\n",
            "2415\n",
            "2485\n",
            "2556\n",
            "2628\n",
            "2701\n",
            "2775\n",
            "2850\n",
            "2926\n",
            "3003\n",
            "3081\n",
            "3160\n",
            "3240\n",
            "3321\n",
            "3403\n",
            "3486\n",
            "3570\n",
            "3655\n",
            "3741\n",
            "3828\n",
            "3916\n",
            "4005\n",
            "4095\n",
            "4186\n",
            "4278\n",
            "4371\n",
            "4465\n",
            "4560\n",
            "4656\n",
            "4753\n",
            "4851\n",
            "4950\n",
            "5050\n"
          ]
        }
      ]
    },
    {
      "cell_type": "code",
      "source": [
        "# 3\n",
        "print(\"assignment 3\")\n",
        "sum_i = 0\n",
        "for i in range(100):\n",
        "  sum_i += i+1\n",
        "  if sum_i % 2 == 0:\n",
        "    print(sum_i)"
      ],
      "metadata": {
        "colab": {
          "base_uri": "https://localhost:8080/"
        },
        "id": "01eU1fp17MGo",
        "outputId": "f7b34e6c-89b0-4c61-f24e-34faf6712ad7"
      },
      "execution_count": 3,
      "outputs": [
        {
          "output_type": "stream",
          "name": "stdout",
          "text": [
            "assignment 3\n",
            "6\n",
            "10\n",
            "28\n",
            "36\n",
            "66\n",
            "78\n",
            "120\n",
            "136\n",
            "190\n",
            "210\n",
            "276\n",
            "300\n",
            "378\n",
            "406\n",
            "496\n",
            "528\n",
            "630\n",
            "666\n",
            "780\n",
            "820\n",
            "946\n",
            "990\n",
            "1128\n",
            "1176\n",
            "1326\n",
            "1378\n",
            "1540\n",
            "1596\n",
            "1770\n",
            "1830\n",
            "2016\n",
            "2080\n",
            "2278\n",
            "2346\n",
            "2556\n",
            "2628\n",
            "2850\n",
            "2926\n",
            "3160\n",
            "3240\n",
            "3486\n",
            "3570\n",
            "3828\n",
            "3916\n",
            "4186\n",
            "4278\n",
            "4560\n",
            "4656\n",
            "4950\n",
            "5050\n"
          ]
        }
      ]
    },
    {
      "cell_type": "code",
      "source": [
        "# 4\n",
        "import math\n",
        "\n",
        "print(\"assignment 4\")\n",
        "print(\"sqrt of 1~10\")\n",
        "for i in range(10):\n",
        "  print(math.sqrt(i+1))\n",
        "print(\"sin of 60 deg\")\n",
        "print(math.sin(math.radians(60)))\n",
        "print(\"cos of 60 deg\")\n",
        "print(math.cos(math.radians(60)))"
      ],
      "metadata": {
        "colab": {
          "base_uri": "https://localhost:8080/"
        },
        "id": "hkB2PrtU7XMi",
        "outputId": "dbdf2c12-5924-45c4-ddf3-203eda27126f"
      },
      "execution_count": 4,
      "outputs": [
        {
          "output_type": "stream",
          "name": "stdout",
          "text": [
            "assignment 4\n",
            "sqrt of 1~10\n",
            "1.0\n",
            "1.4142135623730951\n",
            "1.7320508075688772\n",
            "2.0\n",
            "2.23606797749979\n",
            "2.449489742783178\n",
            "2.6457513110645907\n",
            "2.8284271247461903\n",
            "3.0\n",
            "3.1622776601683795\n",
            "sin of 60 deg\n",
            "0.8660254037844386\n",
            "cos of 60 deg\n",
            "0.5000000000000001\n"
          ]
        }
      ]
    },
    {
      "cell_type": "code",
      "source": [
        "# 5\n",
        "print(\"assignment 5\")\n",
        "for i in range(100):\n",
        "  if math.sqrt(100-i) >= 7.6:\n",
        "    print(math.sqrt(100-i))"
      ],
      "metadata": {
        "colab": {
          "base_uri": "https://localhost:8080/"
        },
        "id": "2uTegfg88qBI",
        "outputId": "1b62c19c-f904-4855-b391-4076757e0f98"
      },
      "execution_count": 5,
      "outputs": [
        {
          "output_type": "stream",
          "name": "stdout",
          "text": [
            "assignment 5\n",
            "10.0\n",
            "9.9498743710662\n",
            "9.899494936611665\n",
            "9.848857801796104\n",
            "9.797958971132712\n",
            "9.746794344808963\n",
            "9.695359714832659\n",
            "9.643650760992955\n",
            "9.591663046625438\n",
            "9.539392014169456\n",
            "9.486832980505138\n",
            "9.433981132056603\n",
            "9.38083151964686\n",
            "9.327379053088816\n",
            "9.273618495495704\n",
            "9.219544457292887\n",
            "9.16515138991168\n",
            "9.1104335791443\n",
            "9.055385138137417\n",
            "9.0\n",
            "8.94427190999916\n",
            "8.888194417315589\n",
            "8.831760866327848\n",
            "8.774964387392123\n",
            "8.717797887081348\n",
            "8.660254037844387\n",
            "8.602325267042627\n",
            "8.54400374531753\n",
            "8.48528137423857\n",
            "8.426149773176359\n",
            "8.366600265340756\n",
            "8.306623862918075\n",
            "8.246211251235321\n",
            "8.18535277187245\n",
            "8.12403840463596\n",
            "8.06225774829855\n",
            "8.0\n",
            "7.937253933193772\n",
            "7.874007874011811\n",
            "7.810249675906654\n",
            "7.745966692414834\n",
            "7.681145747868608\n",
            "7.615773105863909\n"
          ]
        }
      ]
    },
    {
      "cell_type": "code",
      "source": [
        "# 6\n",
        "def judge_multiple_of_35(num):\n",
        "  if num % 15 == 0:\n",
        "    print(f\"{num} is multiple of 3 and 5\")\n",
        "  elif num % 3 == 0:\n",
        "    print(f\"{num} is multiple of 3\")\n",
        "  elif num % 5 == 0:\n",
        "    print(f\"{num} is multiple of 5\")\n",
        "  else:\n",
        "    return False\n",
        "\n",
        "for i in range(50):\n",
        "  judge_multiple_of_35(i+1)\n"
      ],
      "metadata": {
        "colab": {
          "base_uri": "https://localhost:8080/"
        },
        "id": "1Fj9DNYe9bcY",
        "outputId": "c3123599-3cd4-403a-9295-0ce7e37de615"
      },
      "execution_count": 6,
      "outputs": [
        {
          "output_type": "stream",
          "name": "stdout",
          "text": [
            "3 is multiple of 3\n",
            "5 is multiple of 5\n",
            "6 is multiple of 3\n",
            "9 is multiple of 3\n",
            "10 is multiple of 5\n",
            "12 is multiple of 3\n",
            "15 is multiple of 3 and 5\n",
            "18 is multiple of 3\n",
            "20 is multiple of 5\n",
            "21 is multiple of 3\n",
            "24 is multiple of 3\n",
            "25 is multiple of 5\n",
            "27 is multiple of 3\n",
            "30 is multiple of 3 and 5\n",
            "33 is multiple of 3\n",
            "35 is multiple of 5\n",
            "36 is multiple of 3\n",
            "39 is multiple of 3\n",
            "40 is multiple of 5\n",
            "42 is multiple of 3\n",
            "45 is multiple of 3 and 5\n",
            "48 is multiple of 3\n",
            "50 is multiple of 5\n"
          ]
        }
      ]
    },
    {
      "cell_type": "code",
      "source": [
        "# 7\n",
        "print(\"assignment 7\")\n",
        "list = []\n",
        "for i in range(10):\n",
        "  list.append(i+1)\n",
        "print(list)\n",
        "\n",
        "print(\"slice of 2-6\")\n",
        "print(list[1:6])\n",
        "\n",
        "print(\"slice of 4-8\")\n",
        "print(list[3:8])\n"
      ],
      "metadata": {
        "colab": {
          "base_uri": "https://localhost:8080/"
        },
        "id": "ph0V_vv7-Zlg",
        "outputId": "443eab53-be06-4507-8dff-8161eb140261"
      },
      "execution_count": 7,
      "outputs": [
        {
          "output_type": "stream",
          "name": "stdout",
          "text": [
            "assignment 7\n",
            "[1, 2, 3, 4, 5, 6, 7, 8, 9, 10]\n",
            "slice of 2-6\n",
            "[2, 3, 4, 5, 6]\n",
            "slice of 4-8\n",
            "[4, 5, 6, 7, 8]\n"
          ]
        }
      ]
    }
  ]
}